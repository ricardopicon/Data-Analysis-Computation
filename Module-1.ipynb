{
 "cells": [
  {
   "cell_type": "markdown",
   "source": [
    "## Find binomial probability of event ocurring n times"
   ],
   "metadata": {}
  },
  {
   "cell_type": "code",
   "execution_count": 4,
   "source": [
    "from math import comb\n",
    "p = 0.00203 ## Probability\n",
    "n = 31000 ## number of ocurrences\n",
    "comb(n,63)*p**63*(1-p)**(n-63)"
   ],
   "outputs": [],
   "metadata": {}
  },
  {
   "cell_type": "markdown",
   "source": [
    "## Find 0.05 value of T statistic in binomial distribution\n",
    "Ie the number on which we consider the alternative to be real."
   ],
   "metadata": {}
  },
  {
   "cell_type": "code",
   "execution_count": 6,
   "source": [
    "from scipy.stats import binom\n",
    "binom.ppf(0.05, 31000, 0.00203)"
   ],
   "outputs": [
    {
     "output_type": "execute_result",
     "data": {
      "text/plain": [
       "50.0"
      ]
     },
     "metadata": {},
     "execution_count": 6
    }
   ],
   "metadata": {}
  },
  {
   "cell_type": "markdown",
   "source": [
    "## Find the p-value using Fisher Statistic"
   ],
   "metadata": {}
  },
  {
   "cell_type": "code",
   "execution_count": 15,
   "source": [
    "from scipy.stats import fisher_exact ## calculates using fisher exact the odds ratio [0] and the p-value [1]\n",
    "import numpy as np\n",
    "table = np.array([[39, 63], [30961, 30937]]) ## Column 1 is Treatment Group, Column 2 is Control Group. Row 1 is Deaths, Row 2 is Alive\n",
    "fisher_exact(table,'less') ## Enter table as explained above, 'less' indicates a one-sided test"
   ],
   "outputs": [
    {
     "output_type": "execute_result",
     "data": {
      "text/plain": [
       "(0.6185677526719483, 0.011094091844052023)"
      ]
     },
     "metadata": {},
     "execution_count": 15
    }
   ],
   "metadata": {}
  },
  {
   "cell_type": "markdown",
   "source": [
    "## Find the z-value"
   ],
   "metadata": {}
  },
  {
   "cell_type": "markdown",
   "source": [],
   "metadata": {}
  },
  {
   "cell_type": "code",
   "execution_count": 3,
   "source": [
    "from scipy.stats import norm\n",
    "z_value = -3.0268\n",
    "norm.cdf(z_value)"
   ],
   "outputs": [
    {
     "output_type": "execute_result",
     "data": {
      "text/plain": [
       "0.0012357871459340907"
      ]
     },
     "metadata": {},
     "execution_count": 3
    }
   ],
   "metadata": {}
  },
  {
   "cell_type": "markdown",
   "source": [
    "## Calculate the p-value of a t-test statistic"
   ],
   "metadata": {}
  },
  {
   "cell_type": "code",
   "execution_count": 6,
   "source": [
    "\n",
    "from scipy.stats import ttest_1samp\n",
    "import numpy as np\n",
    "## Refer to Lecture 2 to see how the t-statistic is calculated.\n",
    "X = np.array([ 0.9, -0.9, 4.3, 2.9, 1.2, 3. , 2.7, 0.6, 3.6, -0.5])\n",
    "t_stats,p_value = ttest_1samp(X, popmean=0) ## returns the p-value of a 2-sided test\n",
    "p_value=p_value/2 ## divide by 2 to get the p-value of a one-sided test\n",
    "p_value"
   ],
   "outputs": [
    {
     "output_type": "execute_result",
     "data": {
      "text/plain": [
       "0.005560692749284678"
      ]
     },
     "metadata": {},
     "execution_count": 6
    }
   ],
   "metadata": {}
  },
  {
   "cell_type": "code",
   "execution_count": null,
   "source": [],
   "outputs": [],
   "metadata": {}
  }
 ],
 "metadata": {
  "orig_nbformat": 4,
  "language_info": {
   "name": "python",
   "version": "3.8.5",
   "mimetype": "text/x-python",
   "codemirror_mode": {
    "name": "ipython",
    "version": 3
   },
   "pygments_lexer": "ipython3",
   "nbconvert_exporter": "python",
   "file_extension": ".py"
  },
  "kernelspec": {
   "name": "python3",
   "display_name": "Python 3.8.5 64-bit"
  },
  "interpreter": {
   "hash": "aee8b7b246df8f9039afb4144a1f6fd8d2ca17a180786b69acc140d282b71a49"
  }
 },
 "nbformat": 4,
 "nbformat_minor": 2
}